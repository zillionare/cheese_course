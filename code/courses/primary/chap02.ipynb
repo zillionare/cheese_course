{
 "cells": [
  {
   "cell_type": "markdown",
   "id": "a8e94dcd",
   "metadata": {},
   "source": [
    "---\n",
    "title: 初识策略\n",
    "---\n",
    "## 1. 小市值策略\n",
    "## 2. 统计套利策略\n",
    "## 3. 布林带策略"
   ]
  }
 ],
 "metadata": {},
 "nbformat": 4,
 "nbformat_minor": 5
}
