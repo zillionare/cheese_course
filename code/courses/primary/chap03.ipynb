{
 "cells": [
  {
   "cell_type": "markdown",
   "id": "112c4711",
   "metadata": {},
   "source": [
    "---\n",
    "title: 数据处理基础\n",
    "---\n",
    "## 1. Numpy和Pands\n",
    "### 1.1. Numpy\n",
    "### 1.2. Pandas\n",
    "## 2. Talib\n",
    "### 2.1. 安装Talib\n",
    "#### 2.1.1. Unubtu/Linux下安装Talib\n",
    "#### 2.1.2. Windows下安装Talib\n",
    "### 2.2. 常见指标函数\n",
    "### 2.3. 模式识别函数\n",
    "## 3. 数字信号处理\n",
    "### 3.1. zigzag与顶底标记\n",
    "### 3.2. 一维聚类与平台突破\n",
    "### 3.3. 曲线（直线）拟合\n",
    "### 3.4. 凹凸性（拐头）判断\n",
    "## 4. 数学基础\n",
    "### 4.1. 导数\n",
    "### 4.2. 概率密度函数\n",
    "### 4.3. 相关性"
   ]
  }
 ],
 "metadata": {},
 "nbformat": 4,
 "nbformat_minor": 5
}
