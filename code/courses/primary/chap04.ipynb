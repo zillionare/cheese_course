{
 "cells": [
  {
   "cell_type": "markdown",
   "id": "6d3d6fab",
   "metadata": {},
   "source": [
    "---\n",
    "title: 数据可视化\n",
    "---\n",
    "## 1. 绘图基础\n",
    "## 2. Matplotlib\n",
    "## 3. Plotly\n",
    "## 4. Echarts"
   ]
  }
 ],
 "metadata": {},
 "nbformat": 4,
 "nbformat_minor": 5
}
