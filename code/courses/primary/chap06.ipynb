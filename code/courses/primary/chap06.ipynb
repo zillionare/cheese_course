{
 "cells": [
  {
   "cell_type": "markdown",
   "id": "055a2aef",
   "metadata": {},
   "source": [
    "---\n",
    "title: 如何接入实盘\n",
    "---\n",
    "## 1. 接入实盘的相关法规\n",
    "## 2. 使用模拟盘\n",
    "## 3. 基于GUI的接入方案\n",
    "## 4. 基于API的接入方案\n",
    "### 4.1. 文件单和东财EMC Trader\n",
    "### 4.2. Ptrade\n",
    "### 4.3. QMT"
   ]
  }
 ],
 "metadata": {},
 "nbformat": 4,
 "nbformat_minor": 5
}
