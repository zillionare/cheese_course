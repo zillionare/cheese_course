{
 "cells": [
  {
   "cell_type": "markdown",
   "id": "a205eb33",
   "metadata": {},
   "source": [
    "市场上可用的数据源中，属于券商或者大牌金融机构的有东方财富的Choice，恒生数据，掘金量化数据，Wind量化投资平台等。价格多在7万~10万/年以上。\n",
    "\n",
    "考虑到这门课的受众是刚入门的量化爱好者，因此我们选择数据源时，要综合考虑价格、质量和易用性等多个因子。我们着重推荐这样几个数据源：\n",
    "\n",
    "## 1. Akshare\n",
    "AkShare是基于爬虫的财经数据接口库，目的是实现对股票、期货、期权、基金、外汇、债券、指数、数字货币等金融产品的基本面数据、实时和历史行情数据、衍生数据从数据采集、数据清洗到数据落地的一套工具。它自身没有服务器，也不存储数据，数据来源于对大型财经网站的爬取，因此受到网站限流等反爬措施限制。\n",
    "Akshare是一个Python库，我们使用pip来安装："
   ]
  },
  {
   "cell_type": "markdown",
   "id": "ea7b3d62",
   "metadata": {},
   "source": [
    "```shell\n",
    "$ pip install akshare\n",
    "```\n"
   ]
  },
  {
   "cell_type": "markdown",
   "id": "3753b672",
   "metadata": {},
   "source": [
    "然后使用stock_zh_a_spot获取日线数据："
   ]
  },
  {
   "cell_type": "code",
   "execution_count": null,
   "id": "98a0c861",
   "metadata": {},
   "outputs": [],
   "source": [
    "import akshare as ak\n",
    "\n",
    "bars = ak.stock_zh_a_spot()\n",
    "bars"
   ]
  }
 ],
 "metadata": {},
 "nbformat": 4,
 "nbformat_minor": 5
}
